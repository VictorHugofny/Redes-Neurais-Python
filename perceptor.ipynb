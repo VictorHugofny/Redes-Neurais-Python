{
  "nbformat": 4,
  "nbformat_minor": 0,
  "metadata": {
    "colab": {
      "provenance": [],
      "collapsed_sections": [],
      "authorship_tag": "ABX9TyMplm8sgZTfjS6NiCpZb1Iv",
      "include_colab_link": true
    },
    "kernelspec": {
      "name": "python3",
      "display_name": "Python 3"
    },
    "language_info": {
      "name": "python"
    }
  },
  "cells": [
    {
      "cell_type": "markdown",
      "metadata": {
        "id": "view-in-github",
        "colab_type": "text"
      },
      "source": [
        "<a href=\"https://colab.research.google.com/github/VictorHugofny/Redes-Neurais-Python/blob/main/perceptor.ipynb\" target=\"_parent\"><img src=\"https://colab.research.google.com/assets/colab-badge.svg\" alt=\"Open In Colab\"/></a>"
      ]
    },
    {
      "cell_type": "code",
      "source": [
        "import numpy as np\n",
        "\n",
        "dados_entrada = np.array([[0,0,1],\n",
        "                         [1,1,1],\n",
        "                         [1,0,1],\n",
        "                         [0,1,1]])\n",
        "\n",
        "saida_real = np.array ([[0,1,1,0]]).T\n"
      ],
      "metadata": {
        "colab": {
          "base_uri": "https://localhost:8080/"
        },
        "id": "si_rNYFxDLj_",
        "outputId": "8db875ba-abcd-4888-e6d7-d4a70feb9ede"
      },
      "execution_count": null,
      "outputs": [
        {
          "output_type": "execute_result",
          "data": {
            "text/plain": [
              "array([[0],\n",
              "       [1],\n",
              "       [1],\n",
              "       [0]])"
            ]
          },
          "metadata": {},
          "execution_count": 21
        }
      ]
    },
    {
      "cell_type": "code",
      "source": [
        "np.random.seed(3)"
      ],
      "metadata": {
        "id": "Dsj8W2r5DQmr"
      },
      "execution_count": null,
      "outputs": []
    },
    {
      "cell_type": "code",
      "source": [
        "pesos_sinapticos = 2 * np.random.random((3,1)) - 1"
      ],
      "metadata": {
        "id": "QZi_myfoGVle"
      },
      "execution_count": null,
      "outputs": []
    },
    {
      "cell_type": "code",
      "source": [
        "pesos_sinapticos"
      ],
      "metadata": {
        "colab": {
          "base_uri": "https://localhost:8080/"
        },
        "id": "ajSe_IzeGg-M",
        "outputId": "fedda2f7-5d01-4a78-f5ba-be56e385df1c"
      },
      "execution_count": null,
      "outputs": [
        {
          "output_type": "execute_result",
          "data": {
            "text/plain": [
              "array([[ 0.10159581],\n",
              "       [ 0.41629565],\n",
              "       [-0.41819052]])"
            ]
          },
          "metadata": {},
          "execution_count": 13
        }
      ]
    },
    {
      "cell_type": "code",
      "source": [
        "pesos_sinapticos"
      ],
      "metadata": {
        "colab": {
          "base_uri": "https://localhost:8080/"
        },
        "id": "dh7K17-ZHZcT",
        "outputId": "c01b7be4-d75f-4e42-af22-6c6043c21fd0"
      },
      "execution_count": null,
      "outputs": [
        {
          "output_type": "execute_result",
          "data": {
            "text/plain": [
              "array([[ 0.10159581],\n",
              "       [ 0.41629565],\n",
              "       [-0.41819052]])"
            ]
          },
          "metadata": {},
          "execution_count": 15
        }
      ]
    },
    {
      "cell_type": "markdown",
      "source": [
        "Funcão de ativação sigmoide\n"
      ],
      "metadata": {
        "id": "avWlDll4I0qE"
      }
    },
    {
      "cell_type": "code",
      "source": [
        "def sigmoide(x):\n",
        "    return 1/(1+ np.exp(-x))"
      ],
      "metadata": {
        "id": "7FA_iPopI74t"
      },
      "execution_count": null,
      "outputs": []
    },
    {
      "cell_type": "code",
      "source": [
        "def derivada_sigmoide(x):\n",
        "    return x*(1-x)"
      ],
      "metadata": {
        "id": "QRStkFkHJOEN"
      },
      "execution_count": null,
      "outputs": []
    },
    {
      "cell_type": "code",
      "source": [
        "for i in range(1000):\n",
        "    saida_estimada = sigmoide(np.dot(dados_entrada, pesos_sinapticos))\n",
        "    erro = saida_real - saida_estimada\n",
        "    ajuste = erro * derivada_sigmoide(saida_estimada)\n",
        "    pesos_sinapticos += np.dot(dados_entrada.T, ajuste)"
      ],
      "metadata": {
        "id": "bMZzGaUjJcR2"
      },
      "execution_count": null,
      "outputs": []
    },
    {
      "cell_type": "code",
      "source": [
        "saida_estimada"
      ],
      "metadata": {
        "colab": {
          "base_uri": "https://localhost:8080/"
        },
        "id": "ta4eSA1PMKM5",
        "outputId": "08806ca4-36a2-4c48-83f3-44d0f4b9f541"
      },
      "execution_count": null,
      "outputs": [
        {
          "output_type": "execute_result",
          "data": {
            "text/plain": [
              "array([[8.59970552e-04],\n",
              "       [9.99297925e-01],\n",
              "       [9.99426963e-01],\n",
              "       [7.01932421e-04]])"
            ]
          },
          "metadata": {},
          "execution_count": 48
        }
      ]
    }
  ]
}