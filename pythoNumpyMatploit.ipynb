{
  "nbformat": 4,
  "nbformat_minor": 0,
  "metadata": {
    "colab": {
      "provenance": [],
      "authorship_tag": "ABX9TyOrUdI4lXpX70faiBvLkMCj",
      "include_colab_link": true
    },
    "kernelspec": {
      "name": "python3",
      "display_name": "Python 3"
    },
    "language_info": {
      "name": "python"
    }
  },
  "cells": [
    {
      "cell_type": "markdown",
      "metadata": {
        "id": "view-in-github",
        "colab_type": "text"
      },
      "source": [
        "<a href=\"https://colab.research.google.com/github/VictorHugofny/Redes-Neurais-Python/blob/main/pythoNumpyMatploit.ipynb\" target=\"_parent\"><img src=\"https://colab.research.google.com/assets/colab-badge.svg\" alt=\"Open In Colab\"/></a>"
      ]
    },
    {
      "cell_type": "code",
      "execution_count": null,
      "metadata": {
        "id": "1lU12xy5cVEM"
      },
      "outputs": [],
      "source": []
    },
    {
      "cell_type": "code",
      "execution_count": null,
      "metadata": {
        "id": "IT8e0q4CC_xo"
      },
      "outputs": [],
      "source": []
    },
    {
      "cell_type": "markdown",
      "source": [
        "\n",
        "\n",
        "EQUAÇÃO DA RETA: Ax + By + C\n",
        "\n",
        "EM RNA: W1x1 + w2x2 ... + wnxn + b\n",
        "```\n",
        "\n"
      ],
      "metadata": {
        "id": "VE_kYK75FleF"
      }
    },
    {
      "cell_type": "code",
      "source": [
        "import numpy as np\n",
        "import matplotlib.pyplot as plt\n",
        "\n",
        "a = -2\n",
        "b = 5\n",
        "c= 0.3\n",
        "def plotline(a,b,c):\n",
        "  x = np.linspace (-3, 5, 50)\n",
        "  y = (-a*x - c)/b\n",
        "\n",
        "  plt.axvline(0, -2, 2, color='k', linewidth = 1)\n",
        "  plt.axhline(0, -3 ,5, color='k', linewidth = 1)\n",
        "\n",
        "  plt.plot(x,y)\n",
        "  plt.grid(True)\n",
        "\n",
        "plotline(a,b,c)"
      ],
      "metadata": {
        "colab": {
          "base_uri": "https://localhost:8080/",
          "height": 265
        },
        "id": "NB40NQNhGQ3w",
        "outputId": "f617e38a-1059-49ba-d400-ce79ec87ef1b"
      },
      "execution_count": null,
      "outputs": [
        {
          "output_type": "display_data",
          "data": {
            "text/plain": [
              "<Figure size 432x288 with 1 Axes>"
            ],
            "image/png": "[encoded data removed]"
          },
          "metadata": {
            "needs_background": "light"
          }
        }
      ]
    },
    {
      "cell_type": "markdown",
      "source": [
        "python, estudar biblioteca numpy e matplotlib"
      ],
      "metadata": {
        "id": "v8nbzWJoaTk7"
      }
    },
    {
      "cell_type": "code",
      "source": [
        "p1 = (2,-1)\n",
        "p2 = (1,1)\n",
        "p3 = (2,-1)\n",
        "#ax + by + c\n",
        "plotline(a,b,c)\n",
        "plt.plot(p1[0],p1[1], color='b', marker = 'o')\n",
        "plt.plot(p2[0],p2[1], color='b', marker = 'o')\n",
        "plt.plot(p3[0],p3[1], color='b', marker = 'o')\n",
        "result1 = a*p1[0] + b*p1[1] + c\n",
        "result2 = a*p2[0] + b*p2[1] + c\n",
        "result3 = a*p3[0] + b*p3[1] + c\n",
        "\n",
        "print(\"valor %.2f\" % result1)\n",
        "print(\"valor %.2f\" % result2)\n",
        "print(\"valor %.2f\" % result3)"
      ],
      "metadata": {
        "colab": {
          "base_uri": "https://localhost:8080/",
          "height": 317
        },
        "id": "K8c4aqrtWuKR",
        "outputId": "d55182bf-8a36-42db-fde5-062b798fb16b"
      },
      "execution_count": null,
      "outputs": [
        {
          "output_type": "stream",
          "name": "stdout",
          "text": [
            "valor -8.70\n",
            "valor 3.30\n",
            "valor -8.70\n"
          ]
        },
        {
          "output_type": "display_data",
          "data": {
            "text/plain": [
              "<Figure size 432x288 with 1 Axes>"
            ],
            "image/png": "[encoded data removed]"
          },
          "metadata": {
            "needs_background": "light"
          }
        }
      ]
    }
  ]
}