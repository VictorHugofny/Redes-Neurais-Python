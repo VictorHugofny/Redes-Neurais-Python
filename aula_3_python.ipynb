{
  "nbformat": 4,
  "nbformat_minor": 0,
  "metadata": {
    "colab": {
      "provenance": [],
      "collapsed_sections": [],
      "authorship_tag": "ABX9TyO0Ko4Ahm1Ucp55SSB1tel7",
      "include_colab_link": true
    },
    "kernelspec": {
      "name": "python3",
      "display_name": "Python 3"
    },
    "language_info": {
      "name": "python"
    }
  },
  "cells": [
    {
      "cell_type": "markdown",
      "metadata": {
        "id": "view-in-github",
        "colab_type": "text"
      },
      "source": [
        "<a href=\"https://colab.research.google.com/github/VictorHugofny/Redes-Neurais-Python/blob/main/aula_3_python.ipynb\" target=\"_parent\"><img src=\"https://colab.research.google.com/assets/colab-badge.svg\" alt=\"Open In Colab\"/></a>"
      ]
    },
    {
      "cell_type": "code",
      "execution_count": 186,
      "metadata": {
        "id": "5UZ0PqhPG2uc"
      },
      "outputs": [],
      "source": [
        "import torch\n",
        "import numpy as np\n",
        "from torch import nn #neural network\n",
        "\n",
        "lista = [[1,2,4],\n",
        "         [4,5,6]]"
      ]
    },
    {
      "cell_type": "code",
      "source": [
        "tns= torch.Tensor(lista)\n",
        "print(tns.dtype)\n",
        "print(tns)\n",
        "\n"
      ],
      "metadata": {
        "colab": {
          "base_uri": "https://localhost:8080/"
        },
        "id": "gXvk7c6hHIAo",
        "outputId": "ae59ca00-784d-47d5-d61e-9d6d30057a9f"
      },
      "execution_count": 187,
      "outputs": [
        {
          "output_type": "stream",
          "name": "stdout",
          "text": [
            "torch.float32\n",
            "tensor([[1., 2., 4.],\n",
            "        [4., 5., 6.]])\n"
          ]
        }
      ]
    },
    {
      "cell_type": "code",
      "source": [
        "tns= torch.LongTensor(lista)\n",
        "print(tns.dtype)\n",
        "print(tns)\n"
      ],
      "metadata": {
        "colab": {
          "base_uri": "https://localhost:8080/"
        },
        "id": "dU5z5gxlHSpG",
        "outputId": "83de6262-1bbb-4c88-de69-d4e13c113cc6"
      },
      "execution_count": 188,
      "outputs": [
        {
          "output_type": "stream",
          "name": "stdout",
          "text": [
            "torch.int64\n",
            "tensor([[1, 2, 4],\n",
            "        [4, 5, 6]])\n"
          ]
        }
      ]
    },
    {
      "cell_type": "code",
      "source": [
        "tns= torch.DoubleTensor(lista)\n",
        "print(tns.dtype)\n",
        "print(tns)\n"
      ],
      "metadata": {
        "colab": {
          "base_uri": "https://localhost:8080/"
        },
        "id": "owIhGcgUHWT7",
        "outputId": "ea535537-a62b-49c5-8521-d8548b6af9e6"
      },
      "execution_count": 189,
      "outputs": [
        {
          "output_type": "stream",
          "name": "stdout",
          "text": [
            "torch.float64\n",
            "tensor([[1., 2., 4.],\n",
            "        [4., 5., 6.]], dtype=torch.float64)\n"
          ]
        }
      ]
    },
    {
      "cell_type": "code",
      "source": [
        "array = np.random.rand(4,5)\n",
        "array = array.astype(int)\n",
        "print(array)\n",
        "print(array.dtype)"
      ],
      "metadata": {
        "colab": {
          "base_uri": "https://localhost:8080/"
        },
        "id": "ee18h78FHdui",
        "outputId": "6a2ebe1d-c863-41be-8560-344c03573aea"
      },
      "execution_count": 190,
      "outputs": [
        {
          "output_type": "stream",
          "name": "stdout",
          "text": [
            "[[0 0 0 0 0]\n",
            " [0 0 0 0 0]\n",
            " [0 0 0 0 0]\n",
            " [0 0 0 0 0]]\n",
            "int64\n"
          ]
        }
      ]
    },
    {
      "cell_type": "code",
      "source": [
        "tensor1 = torch.ones(3,2)\n",
        "tensor2 = torch.zeros(4,5)\n",
        "tensor3 = torch.randn(3,3)\n",
        "print(tensor1)\n",
        "print(tensor2)\n",
        "print(tensor3)"
      ],
      "metadata": {
        "colab": {
          "base_uri": "https://localhost:8080/"
        },
        "id": "VBsmpBX5JnSU",
        "outputId": "997398b8-ecd9-4492-fd12-4d5ab0f7b54a"
      },
      "execution_count": 191,
      "outputs": [
        {
          "output_type": "stream",
          "name": "stdout",
          "text": [
            "tensor([[1., 1.],\n",
            "        [1., 1.],\n",
            "        [1., 1.]])\n",
            "tensor([[0., 0., 0., 0., 0.],\n",
            "        [0., 0., 0., 0., 0.],\n",
            "        [0., 0., 0., 0., 0.],\n",
            "        [0., 0., 0., 0., 0.]])\n",
            "tensor([[-0.3476, -0.2759, -2.3094],\n",
            "        [-1.0931, -0.0808,  0.7721],\n",
            "        [-1.1370, -0.4773, -1.0679]])\n"
          ]
        }
      ]
    },
    {
      "cell_type": "code",
      "source": [],
      "metadata": {
        "id": "TTw8dlelOTlY"
      },
      "execution_count": 191,
      "outputs": []
    },
    {
      "cell_type": "markdown",
      "source": [
        "Criando o perceptron"
      ],
      "metadata": {
        "id": "myNMFsrtICsq"
      }
    },
    {
      "cell_type": "code",
      "source": [
        "torch.manual_seed(33)\n",
        "perceptron = nn.Linear(3,1)\n",
        "print(perceptron)"
      ],
      "metadata": {
        "colab": {
          "base_uri": "https://localhost:8080/"
        },
        "id": "yPuGgSBEHvL6",
        "outputId": "eb188f11-36ab-4bd0-e48a-28e3c07424d6"
      },
      "execution_count": 192,
      "outputs": [
        {
          "output_type": "stream",
          "name": "stdout",
          "text": [
            "Linear(in_features=3, out_features=1, bias=True)\n"
          ]
        }
      ]
    },
    {
      "cell_type": "code",
      "source": [
        "for nome, tensor in perceptron.named_parameters():\n",
        "    print(nome, tensor.data)"
      ],
      "metadata": {
        "colab": {
          "base_uri": "https://localhost:8080/"
        },
        "id": "esCHNbEjIlFW",
        "outputId": "a220757e-77c3-461d-a906-dcb3a8ee510f"
      },
      "execution_count": 193,
      "outputs": [
        {
          "output_type": "stream",
          "name": "stdout",
          "text": [
            "weight tensor([[ 0.1369,  0.0678, -0.3537]])\n",
            "bias tensor([-0.1894])\n"
          ]
        }
      ]
    },
    {
      "cell_type": "code",
      "source": [
        "from sklearn.datasets import make_classification\n",
        "import matplotlib.pyplot as plt\n",
        "#import numpy as np"
      ],
      "metadata": {
        "id": "H6TrxtO2KXw-"
      },
      "execution_count": 194,
      "outputs": []
    },
    {
      "cell_type": "code",
      "source": [
        "np.random.seed(50)\n",
        "X,Y = make_classification(n_features=2, n_redundant=0, n_informative=1,\n",
        "                          n_clusters_per_class=1)"
      ],
      "metadata": {
        "id": "1ysskFv5Kj-P"
      },
      "execution_count": 195,
      "outputs": []
    },
    {
      "cell_type": "code",
      "source": [
        "plt.scatter(X[:,0], X[:,1], marker='o', c=Y, edgecolor='k')"
      ],
      "metadata": {
        "colab": {
          "base_uri": "https://localhost:8080/",
          "height": 282
        },
        "id": "ThFUQh14MGVU",
        "outputId": "77cda1c0-5be7-460d-d5c5-a567d71b7692"
      },
      "execution_count": 196,
      "outputs": [
        {
          "output_type": "execute_result",
          "data": {
            "text/plain": [
              "<matplotlib.collections.PathCollection at 0x7f0df63d5c90>"
            ]
          },
          "metadata": {},
          "execution_count": 196
        },
        {
          "output_type": "display_data",
          "data": {
            "text/plain": [
              "<Figure size 432x288 with 1 Axes>"
            ],
            "image/png": "[encoded data removed]"
          },
          "metadata": {
            "needs_background": "light"
          }
        }
      ]
    },
    {
      "cell_type": "code",
      "source": [
        "def plotmodel(w1, w2, b):\n",
        "  plt.scatter(X[:,0], X[:,1], marker = 'o', c=Y, edgecolor='k') \n",
        "\n",
        "  xmin, xmax = plt.gca().get_xlim()\n",
        "  ymin, ymax = plt.gca().get_ylim()\n",
        "\n",
        "  x = np.linspace(-2,4,50)\n",
        "  y = (-w1*x - b) /w2\n",
        "\n",
        "  plt.axvline(0,-1,1, color='k', linewidth = 1)\n",
        "  plt.axhline(0,-2,4, color='k', linewidth = 1)\n",
        "  plt.plot(x,y, label='_no_')\n",
        "  plt.xlim(xmin, xmax)\n",
        "  plt.ylim(ymin, ymax)"
      ],
      "metadata": {
        "id": "-V2i-BWAOVO2"
      },
      "execution_count": 197,
      "outputs": []
    },
    {
      "cell_type": "code",
      "source": [
        "w1 = 4 # a\n",
        "w2 = 1 # b\n",
        "b = 1 # c\n",
        "plotmodel(w1,w2, b)"
      ],
      "metadata": {
        "colab": {
          "base_uri": "https://localhost:8080/",
          "height": 265
        },
        "id": "5U9hzJZ9Pdqe",
        "outputId": "d253e24c-14b2-4c42-a0aa-00747b3299cf"
      },
      "execution_count": 217,
      "outputs": [
        {
          "output_type": "display_data",
          "data": {
            "text/plain": [
              "<Figure size 432x288 with 1 Axes>"
            ],
            "image/png": "[encoded data removed]"
          },
          "metadata": {
            "needs_background": "light"
          }
        }
      ]
    },
    {
      "cell_type": "code",
      "source": [
        "p = (-1,1)\n",
        "print(w1*p[0] + w2*p[1] + b)"
      ],
      "metadata": {
        "colab": {
          "base_uri": "https://localhost:8080/"
        },
        "id": "wvyS7XplSLiA",
        "outputId": "016aea32-2bbd-4d16-8274-1e748c2199a3"
      },
      "execution_count": 199,
      "outputs": [
        {
          "output_type": "stream",
          "name": "stdout",
          "text": [
            "0\n"
          ]
        }
      ]
    },
    {
      "cell_type": "code",
      "source": [
        "def classify(ponto, w1, w2, b):\n",
        "  result = w1 * ponto[0] + w2 * ponto[1] + b\n",
        "\n",
        "  if result >=0:\n",
        "    return 1, 'yellow'\n",
        "  else:\n",
        "    return 0, 'blue'"
      ],
      "metadata": {
        "id": "tUTmzDAPYW8y"
      },
      "execution_count": 200,
      "outputs": []
    },
    {
      "cell_type": "code",
      "source": [],
      "metadata": {
        "id": "QymlI3qDY7Nv"
      },
      "execution_count": 200,
      "outputs": []
    },
    {
      "cell_type": "code",
      "source": [
        "p = (2, -1)\n",
        "classe, cor = classify(p,w1,w2,b)\n",
        "print(classe, cor)"
      ],
      "metadata": {
        "colab": {
          "base_uri": "https://localhost:8080/"
        },
        "id": "xMcEoPRBYwLl",
        "outputId": "9caf9056-97fe-476d-e837-ff9316ce0c92"
      },
      "execution_count": 201,
      "outputs": [
        {
          "output_type": "stream",
          "name": "stdout",
          "text": [
            "1 yellow\n"
          ]
        }
      ]
    },
    {
      "cell_type": "code",
      "source": [
        "acertos = 0\n",
        "\n",
        "for k in range(len(X)):\n",
        "    categ, _ = classify(X[k], w1, w2, b)\n",
        "    if categ == Y[k]:\n",
        "      acertos +=1\n",
        "  \n",
        "print(\"ACuracia: {0}\".format(100*acertos/len(X)))\n"
      ],
      "metadata": {
        "colab": {
          "base_uri": "https://localhost:8080/"
        },
        "id": "IquQYL5ZZKQz",
        "outputId": "0a60a218-ce0f-4212-f23d-cc620f8d5611"
      },
      "execution_count": 219,
      "outputs": [
        {
          "output_type": "stream",
          "name": "stdout",
          "text": [
            "ACuracia: 91.0\n"
          ]
        }
      ]
    },
    {
      "cell_type": "code",
      "source": [],
      "metadata": {
        "id": "MmKZlGPXZop_"
      },
      "execution_count": 202,
      "outputs": []
    }
  ]
}